{
 "cells": [
  {
   "cell_type": "code",
   "execution_count": 18,
   "metadata": {
    "collapsed": true
   },
   "outputs": [],
   "source": [
    "import pandas as pd\n",
    "%matplotlib inline"
   ]
  },
  {
   "cell_type": "markdown",
   "metadata": {},
   "source": [
    "Data from https://www.fhfa.gov/DataTools/Downloads/pages/house-price-index.aspx"
   ]
  },
  {
   "cell_type": "code",
   "execution_count": 51,
   "metadata": {},
   "outputs": [
    {
     "data": {
      "text/html": [
       "<div>\n",
       "<style>\n",
       "    .dataframe thead tr:only-child th {\n",
       "        text-align: right;\n",
       "    }\n",
       "\n",
       "    .dataframe thead th {\n",
       "        text-align: left;\n",
       "    }\n",
       "\n",
       "    .dataframe tbody tr th {\n",
       "        vertical-align: top;\n",
       "    }\n",
       "</style>\n",
       "<table border=\"1\" class=\"dataframe\">\n",
       "  <thead>\n",
       "    <tr style=\"text-align: right;\">\n",
       "      <th></th>\n",
       "      <th>month</th>\n",
       "      <th>U.S.</th>\n",
       "      <th>Pacific</th>\n",
       "      <th>Mountain</th>\n",
       "      <th>West North Central</th>\n",
       "      <th>West South Central</th>\n",
       "      <th>East North Central</th>\n",
       "      <th>East South Central</th>\n",
       "      <th>New England</th>\n",
       "      <th>Middle Atlantic</th>\n",
       "      <th>South Atlantic</th>\n",
       "    </tr>\n",
       "  </thead>\n",
       "  <tbody>\n",
       "    <tr>\n",
       "      <th>1</th>\n",
       "      <td>2017-07-01</td>\n",
       "      <td>255.5</td>\n",
       "      <td>292.3</td>\n",
       "      <td>334.3</td>\n",
       "      <td>253.7</td>\n",
       "      <td>270.4</td>\n",
       "      <td>213.1</td>\n",
       "      <td>235.5</td>\n",
       "      <td>246.0</td>\n",
       "      <td>231.2</td>\n",
       "      <td>258.2</td>\n",
       "    </tr>\n",
       "    <tr>\n",
       "      <th>2</th>\n",
       "      <td>2017-06-01</td>\n",
       "      <td>255.0</td>\n",
       "      <td>293.0</td>\n",
       "      <td>332.8</td>\n",
       "      <td>254.7</td>\n",
       "      <td>269.8</td>\n",
       "      <td>212.4</td>\n",
       "      <td>233.8</td>\n",
       "      <td>244.5</td>\n",
       "      <td>230.1</td>\n",
       "      <td>257.5</td>\n",
       "    </tr>\n",
       "    <tr>\n",
       "      <th>3</th>\n",
       "      <td>2017-05-01</td>\n",
       "      <td>253.6</td>\n",
       "      <td>291.6</td>\n",
       "      <td>330.5</td>\n",
       "      <td>252.6</td>\n",
       "      <td>271.9</td>\n",
       "      <td>210.4</td>\n",
       "      <td>230.6</td>\n",
       "      <td>242.7</td>\n",
       "      <td>227.9</td>\n",
       "      <td>256.4</td>\n",
       "    </tr>\n",
       "    <tr>\n",
       "      <th>4</th>\n",
       "      <td>2017-04-01</td>\n",
       "      <td>250.5</td>\n",
       "      <td>286.9</td>\n",
       "      <td>327.4</td>\n",
       "      <td>248.9</td>\n",
       "      <td>267.1</td>\n",
       "      <td>207.4</td>\n",
       "      <td>229.2</td>\n",
       "      <td>240.2</td>\n",
       "      <td>225.4</td>\n",
       "      <td>254.9</td>\n",
       "    </tr>\n",
       "    <tr>\n",
       "      <th>5</th>\n",
       "      <td>2017-03-01</td>\n",
       "      <td>247.1</td>\n",
       "      <td>283.4</td>\n",
       "      <td>321.7</td>\n",
       "      <td>246.1</td>\n",
       "      <td>262.6</td>\n",
       "      <td>205.5</td>\n",
       "      <td>228.5</td>\n",
       "      <td>236.1</td>\n",
       "      <td>222.1</td>\n",
       "      <td>250.3</td>\n",
       "    </tr>\n",
       "  </tbody>\n",
       "</table>\n",
       "</div>"
      ],
      "text/plain": [
       "       month   U.S.  Pacific   Mountain  West North Central  \\\n",
       "1 2017-07-01  255.5     292.3     334.3               253.7   \n",
       "2 2017-06-01  255.0     293.0     332.8               254.7   \n",
       "3 2017-05-01  253.6     291.6     330.5               252.6   \n",
       "4 2017-04-01  250.5     286.9     327.4               248.9   \n",
       "5 2017-03-01  247.1     283.4     321.7               246.1   \n",
       "\n",
       "   West South Central  East North Central  East South Central  New England  \\\n",
       "1               270.4               213.1               235.5        246.0   \n",
       "2               269.8               212.4               233.8        244.5   \n",
       "3               271.9               210.4               230.6        242.7   \n",
       "4               267.1               207.4               229.2        240.2   \n",
       "5               262.6               205.5               228.5        236.1   \n",
       "\n",
       "   Middle Atlantic  South Atlantic  \n",
       "1            231.2           258.2  \n",
       "2            230.1           257.5  \n",
       "3            227.9           256.4  \n",
       "4            225.4           254.9  \n",
       "5            222.1           250.3  "
      ]
     },
     "execution_count": 51,
     "metadata": {},
     "output_type": "execute_result"
    }
   ],
   "source": [
    "# Read in data\n",
    "df = pd.read_excel(\"HPI_PO_monthly_nsa.xls\", skiprows=24, skip_footer=1)\n",
    "df.rename(columns={'Unnamed: 0': 'month'}, inplace=True)\n",
    "df.drop(0, inplace=True)\n",
    "df.head()"
   ]
  },
  {
   "cell_type": "code",
   "execution_count": 55,
   "metadata": {
    "collapsed": true
   },
   "outputs": [],
   "source": [
    "# Mess with the date column a little\n",
    "df.month = df.month.dt.strftime(\"%B-%y\")"
   ]
  },
  {
   "cell_type": "code",
   "execution_count": 60,
   "metadata": {},
   "outputs": [
    {
     "data": {
      "text/html": [
       "<div>\n",
       "<style>\n",
       "    .dataframe thead tr:only-child th {\n",
       "        text-align: right;\n",
       "    }\n",
       "\n",
       "    .dataframe thead th {\n",
       "        text-align: left;\n",
       "    }\n",
       "\n",
       "    .dataframe tbody tr th {\n",
       "        vertical-align: top;\n",
       "    }\n",
       "</style>\n",
       "<table border=\"1\" class=\"dataframe\">\n",
       "  <thead>\n",
       "    <tr style=\"text-align: right;\">\n",
       "      <th></th>\n",
       "      <th>month</th>\n",
       "      <th>region</th>\n",
       "      <th>price</th>\n",
       "    </tr>\n",
       "  </thead>\n",
       "  <tbody>\n",
       "    <tr>\n",
       "      <th>0</th>\n",
       "      <td>July-17</td>\n",
       "      <td>U.S.</td>\n",
       "      <td>255.5</td>\n",
       "    </tr>\n",
       "    <tr>\n",
       "      <th>1</th>\n",
       "      <td>June-17</td>\n",
       "      <td>U.S.</td>\n",
       "      <td>255.0</td>\n",
       "    </tr>\n",
       "    <tr>\n",
       "      <th>2</th>\n",
       "      <td>May-17</td>\n",
       "      <td>U.S.</td>\n",
       "      <td>253.6</td>\n",
       "    </tr>\n",
       "    <tr>\n",
       "      <th>3</th>\n",
       "      <td>April-17</td>\n",
       "      <td>U.S.</td>\n",
       "      <td>250.5</td>\n",
       "    </tr>\n",
       "    <tr>\n",
       "      <th>4</th>\n",
       "      <td>March-17</td>\n",
       "      <td>U.S.</td>\n",
       "      <td>247.1</td>\n",
       "    </tr>\n",
       "  </tbody>\n",
       "</table>\n",
       "</div>"
      ],
      "text/plain": [
       "      month region  price\n",
       "0   July-17   U.S.  255.5\n",
       "1   June-17   U.S.  255.0\n",
       "2    May-17   U.S.  253.6\n",
       "3  April-17   U.S.  250.5\n",
       "4  March-17   U.S.  247.1"
      ]
     },
     "execution_count": 60,
     "metadata": {},
     "output_type": "execute_result"
    }
   ],
   "source": [
    "# Reshape to long format\n",
    "long = df.melt(id_vars=['month'], var_name='region', value_name='price')\n",
    "long.head()"
   ]
  },
  {
   "cell_type": "code",
   "execution_count": 61,
   "metadata": {
    "collapsed": true
   },
   "outputs": [],
   "source": [
    "long.to_csv(\"housing-prices.csv\", index=False)"
   ]
  },
  {
   "cell_type": "code",
   "execution_count": 62,
   "metadata": {},
   "outputs": [
    {
     "name": "stdout",
     "output_type": "stream",
     "text": [
      "month,region,price\r\n",
      "July-17,U.S.,255.5\r\n",
      "June-17,U.S.,255.0\r\n",
      "May-17,U.S.,253.6\r\n",
      "April-17,U.S.,250.5\r\n",
      "March-17,U.S.,247.1\r\n",
      "February-17,U.S.,242.9\r\n",
      "January-17,U.S.,240.2\r\n",
      "December-16,U.S.,241.5\r\n",
      "November-16,U.S.,241.9\r\n"
     ]
    }
   ],
   "source": [
    "!head housing-prices.csv"
   ]
  },
  {
   "cell_type": "code",
   "execution_count": null,
   "metadata": {
    "collapsed": true
   },
   "outputs": [],
   "source": []
  }
 ],
 "metadata": {
  "kernelspec": {
   "display_name": "Python 3",
   "language": "python",
   "name": "python3"
  },
  "language_info": {
   "codemirror_mode": {
    "name": "ipython",
    "version": 3
   },
   "file_extension": ".py",
   "mimetype": "text/x-python",
   "name": "python",
   "nbconvert_exporter": "python",
   "pygments_lexer": "ipython3",
   "version": "3.6.1"
  }
 },
 "nbformat": 4,
 "nbformat_minor": 2
}
