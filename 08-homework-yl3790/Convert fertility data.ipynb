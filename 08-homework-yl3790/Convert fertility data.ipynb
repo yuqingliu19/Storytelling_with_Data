{
 "cells": [
  {
   "cell_type": "markdown",
   "metadata": {},
   "source": [
    "Data from\n",
    "\n",
    "* http://www.humanfertility.org/cgi-bin/country.php?country=JPN&tab=asfr\n",
    "* http://www.humanfertility.org/cgi-bin/country.php?country=USA&tab=asfr\n",
    "    \n",
    "It's \"All birth orders combined\" x \"Age specific fertility rates\""
   ]
  },
  {
   "cell_type": "code",
   "execution_count": 52,
   "metadata": {
    "collapsed": true
   },
   "outputs": [],
   "source": [
    "import pandas as pd\n",
    "pd.set_option('display.float_format', lambda x: '%.5f' % x)"
   ]
  },
  {
   "cell_type": "code",
   "execution_count": 65,
   "metadata": {},
   "outputs": [
    {
     "data": {
      "text/html": [
       "<div>\n",
       "<style>\n",
       "    .dataframe thead tr:only-child th {\n",
       "        text-align: right;\n",
       "    }\n",
       "\n",
       "    .dataframe thead th {\n",
       "        text-align: left;\n",
       "    }\n",
       "\n",
       "    .dataframe tbody tr th {\n",
       "        vertical-align: top;\n",
       "    }\n",
       "</style>\n",
       "<table border=\"1\" class=\"dataframe\">\n",
       "  <thead>\n",
       "    <tr style=\"text-align: right;\">\n",
       "      <th></th>\n",
       "      <th>Year</th>\n",
       "      <th>Age</th>\n",
       "      <th>ASFR_us</th>\n",
       "    </tr>\n",
       "  </thead>\n",
       "  <tbody>\n",
       "    <tr>\n",
       "      <th>0</th>\n",
       "      <td>1933</td>\n",
       "      <td>12</td>\n",
       "      <td>0.00004</td>\n",
       "    </tr>\n",
       "    <tr>\n",
       "      <th>1</th>\n",
       "      <td>1933</td>\n",
       "      <td>13</td>\n",
       "      <td>0.00044</td>\n",
       "    </tr>\n",
       "    <tr>\n",
       "      <th>2</th>\n",
       "      <td>1933</td>\n",
       "      <td>14</td>\n",
       "      <td>0.00177</td>\n",
       "    </tr>\n",
       "    <tr>\n",
       "      <th>3</th>\n",
       "      <td>1933</td>\n",
       "      <td>15</td>\n",
       "      <td>0.00672</td>\n",
       "    </tr>\n",
       "    <tr>\n",
       "      <th>4</th>\n",
       "      <td>1933</td>\n",
       "      <td>16</td>\n",
       "      <td>0.01875</td>\n",
       "    </tr>\n",
       "  </tbody>\n",
       "</table>\n",
       "</div>"
      ],
      "text/plain": [
       "   Year Age  ASFR_us\n",
       "0  1933  12  0.00004\n",
       "1  1933  13  0.00044\n",
       "2  1933  14  0.00177\n",
       "3  1933  15  0.00672\n",
       "4  1933  16  0.01875"
      ]
     },
     "execution_count": 65,
     "metadata": {},
     "output_type": "execute_result"
    }
   ],
   "source": [
    "us_df = pd.read_fwf(\"USAasfrRR.txt\", skiprows=2, dtype={'ASFR': 'str'}).replace(\"12-\", \"12\").replace(\"55+\",\"55\")\n",
    "us_df.rename(columns={'ASFR': 'ASFR_us'}, inplace=True)\n",
    "us_df.head()"
   ]
  },
  {
   "cell_type": "code",
   "execution_count": 66,
   "metadata": {},
   "outputs": [
    {
     "data": {
      "text/html": [
       "<div>\n",
       "<style>\n",
       "    .dataframe thead tr:only-child th {\n",
       "        text-align: right;\n",
       "    }\n",
       "\n",
       "    .dataframe thead th {\n",
       "        text-align: left;\n",
       "    }\n",
       "\n",
       "    .dataframe tbody tr th {\n",
       "        vertical-align: top;\n",
       "    }\n",
       "</style>\n",
       "<table border=\"1\" class=\"dataframe\">\n",
       "  <thead>\n",
       "    <tr style=\"text-align: right;\">\n",
       "      <th></th>\n",
       "      <th>Year</th>\n",
       "      <th>Age</th>\n",
       "      <th>ASFR_jp</th>\n",
       "    </tr>\n",
       "  </thead>\n",
       "  <tbody>\n",
       "    <tr>\n",
       "      <th>0</th>\n",
       "      <td>1947</td>\n",
       "      <td>12</td>\n",
       "      <td>0.00000</td>\n",
       "    </tr>\n",
       "    <tr>\n",
       "      <th>1</th>\n",
       "      <td>1947</td>\n",
       "      <td>13</td>\n",
       "      <td>0.00000</td>\n",
       "    </tr>\n",
       "    <tr>\n",
       "      <th>2</th>\n",
       "      <td>1947</td>\n",
       "      <td>14</td>\n",
       "      <td>0.00005</td>\n",
       "    </tr>\n",
       "    <tr>\n",
       "      <th>3</th>\n",
       "      <td>1947</td>\n",
       "      <td>15</td>\n",
       "      <td>0.00039</td>\n",
       "    </tr>\n",
       "    <tr>\n",
       "      <th>4</th>\n",
       "      <td>1947</td>\n",
       "      <td>16</td>\n",
       "      <td>0.00184</td>\n",
       "    </tr>\n",
       "  </tbody>\n",
       "</table>\n",
       "</div>"
      ],
      "text/plain": [
       "   Year Age  ASFR_jp\n",
       "0  1947  12  0.00000\n",
       "1  1947  13  0.00000\n",
       "2  1947  14  0.00005\n",
       "3  1947  15  0.00039\n",
       "4  1947  16  0.00184"
      ]
     },
     "execution_count": 66,
     "metadata": {},
     "output_type": "execute_result"
    }
   ],
   "source": [
    "jp_df = pd.read_fwf(\"JPNasfrRR.txt\", skiprows=2, dtype={'ASFR': 'str'}).replace(\"12-\", \"12\").replace(\"55+\",\"55\")\n",
    "jp_df.rename(columns={'ASFR': 'ASFR_jp'}, inplace=True)\n",
    "jp_df.head()"
   ]
  },
  {
   "cell_type": "code",
   "execution_count": 67,
   "metadata": {},
   "outputs": [
    {
     "data": {
      "text/html": [
       "<div>\n",
       "<style>\n",
       "    .dataframe thead tr:only-child th {\n",
       "        text-align: right;\n",
       "    }\n",
       "\n",
       "    .dataframe thead th {\n",
       "        text-align: left;\n",
       "    }\n",
       "\n",
       "    .dataframe tbody tr th {\n",
       "        vertical-align: top;\n",
       "    }\n",
       "</style>\n",
       "<table border=\"1\" class=\"dataframe\">\n",
       "  <thead>\n",
       "    <tr style=\"text-align: right;\">\n",
       "      <th></th>\n",
       "      <th>Year</th>\n",
       "      <th>Age</th>\n",
       "      <th>ASFR_jp</th>\n",
       "      <th>ASFR_us</th>\n",
       "    </tr>\n",
       "  </thead>\n",
       "  <tbody>\n",
       "    <tr>\n",
       "      <th>0</th>\n",
       "      <td>1947</td>\n",
       "      <td>12</td>\n",
       "      <td>0.00000</td>\n",
       "      <td>0.00000</td>\n",
       "    </tr>\n",
       "    <tr>\n",
       "      <th>1</th>\n",
       "      <td>1947</td>\n",
       "      <td>13</td>\n",
       "      <td>0.00000</td>\n",
       "      <td>0.00026</td>\n",
       "    </tr>\n",
       "    <tr>\n",
       "      <th>2</th>\n",
       "      <td>1947</td>\n",
       "      <td>14</td>\n",
       "      <td>0.00005</td>\n",
       "      <td>0.00396</td>\n",
       "    </tr>\n",
       "    <tr>\n",
       "      <th>3</th>\n",
       "      <td>1947</td>\n",
       "      <td>15</td>\n",
       "      <td>0.00039</td>\n",
       "      <td>0.01150</td>\n",
       "    </tr>\n",
       "    <tr>\n",
       "      <th>4</th>\n",
       "      <td>1947</td>\n",
       "      <td>16</td>\n",
       "      <td>0.00184</td>\n",
       "      <td>0.03111</td>\n",
       "    </tr>\n",
       "    <tr>\n",
       "      <th>5</th>\n",
       "      <td>1947</td>\n",
       "      <td>17</td>\n",
       "      <td>0.00732</td>\n",
       "      <td>0.06562</td>\n",
       "    </tr>\n",
       "    <tr>\n",
       "      <th>6</th>\n",
       "      <td>1947</td>\n",
       "      <td>18</td>\n",
       "      <td>0.02168</td>\n",
       "      <td>0.10991</td>\n",
       "    </tr>\n",
       "    <tr>\n",
       "      <th>7</th>\n",
       "      <td>1947</td>\n",
       "      <td>19</td>\n",
       "      <td>0.04583</td>\n",
       "      <td>0.15668</td>\n",
       "    </tr>\n",
       "    <tr>\n",
       "      <th>8</th>\n",
       "      <td>1947</td>\n",
       "      <td>20</td>\n",
       "      <td>0.08737</td>\n",
       "      <td>0.18776</td>\n",
       "    </tr>\n",
       "    <tr>\n",
       "      <th>9</th>\n",
       "      <td>1947</td>\n",
       "      <td>21</td>\n",
       "      <td>0.13156</td>\n",
       "      <td>0.20254</td>\n",
       "    </tr>\n",
       "  </tbody>\n",
       "</table>\n",
       "</div>"
      ],
      "text/plain": [
       "   Year Age  ASFR_jp  ASFR_us\n",
       "0  1947  12  0.00000  0.00000\n",
       "1  1947  13  0.00000  0.00026\n",
       "2  1947  14  0.00005  0.00396\n",
       "3  1947  15  0.00039  0.01150\n",
       "4  1947  16  0.00184  0.03111\n",
       "5  1947  17  0.00732  0.06562\n",
       "6  1947  18  0.02168  0.10991\n",
       "7  1947  19  0.04583  0.15668\n",
       "8  1947  20  0.08737  0.18776\n",
       "9  1947  21  0.13156  0.20254"
      ]
     },
     "execution_count": 67,
     "metadata": {},
     "output_type": "execute_result"
    }
   ],
   "source": [
    "merged = jp_df.merge(us_df, on=['Year', 'Age']).dropna()\n",
    "merged.head(10)"
   ]
  },
  {
   "cell_type": "code",
   "execution_count": 69,
   "metadata": {
    "collapsed": true
   },
   "outputs": [],
   "source": [
    "merged.to_csv(\"fertility.csv\", index=False)"
   ]
  },
  {
   "cell_type": "code",
   "execution_count": 70,
   "metadata": {},
   "outputs": [
    {
     "name": "stdout",
     "output_type": "stream",
     "text": [
      "Year,Age,ASFR_jp,ASFR_us\r\n",
      "1947,12,0.00000,0.00000\r\n",
      "1947,13,0.00000,0.00026\r\n",
      "1947,14,0.00005,0.00396\r\n",
      "1947,15,0.00039,0.01150\r\n",
      "1947,16,0.00184,0.03111\r\n",
      "1947,17,0.00732,0.06562\r\n",
      "1947,18,0.02168,0.10991\r\n",
      "1947,19,0.04583,0.15668\r\n",
      "1947,20,0.08737,0.18776\r\n"
     ]
    }
   ],
   "source": [
    "!head -n 10 fertility.csv"
   ]
  },
  {
   "cell_type": "code",
   "execution_count": null,
   "metadata": {
    "collapsed": true
   },
   "outputs": [],
   "source": []
  }
 ],
 "metadata": {
  "kernelspec": {
   "display_name": "Python 3",
   "language": "python",
   "name": "python3"
  },
  "language_info": {
   "codemirror_mode": {
    "name": "ipython",
    "version": 3
   },
   "file_extension": ".py",
   "mimetype": "text/x-python",
   "name": "python",
   "nbconvert_exporter": "python",
   "pygments_lexer": "ipython3",
   "version": "3.6.1"
  }
 },
 "nbformat": 4,
 "nbformat_minor": 2
}
