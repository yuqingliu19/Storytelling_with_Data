{
 "cells": [
  {
   "cell_type": "code",
   "execution_count": 6,
   "metadata": {
    "collapsed": true
   },
   "outputs": [],
   "source": [
    "import pandas as pd\n",
    "import matplotlib.pyplot as plt\n",
    "%matplotlib inline"
   ]
  },
  {
   "cell_type": "code",
   "execution_count": 7,
   "metadata": {},
   "outputs": [
    {
     "data": {
      "text/html": [
       "<div>\n",
       "<style>\n",
       "    .dataframe thead tr:only-child th {\n",
       "        text-align: right;\n",
       "    }\n",
       "\n",
       "    .dataframe thead th {\n",
       "        text-align: left;\n",
       "    }\n",
       "\n",
       "    .dataframe tbody tr th {\n",
       "        vertical-align: top;\n",
       "    }\n",
       "</style>\n",
       "<table border=\"1\" class=\"dataframe\">\n",
       "  <thead>\n",
       "    <tr style=\"text-align: right;\">\n",
       "      <th></th>\n",
       "      <th>Unnamed: 0</th>\n",
       "      <th>初婚年份</th>\n",
       "      <th>Unnamed: 2</th>\n",
       "      <th>Unnamed: 3</th>\n",
       "      <th>Unnamed: 4</th>\n",
       "      <th>Unnamed: 5</th>\n",
       "      <th>Unnamed: 6</th>\n",
       "      <th>Unnamed: 7</th>\n",
       "      <th>Unnamed: 8</th>\n",
       "      <th>Unnamed: 9</th>\n",
       "      <th>...</th>\n",
       "      <th>Unnamed: 87</th>\n",
       "      <th>Unnamed: 88</th>\n",
       "      <th>Unnamed: 89</th>\n",
       "      <th>Unnamed: 90</th>\n",
       "      <th>Unnamed: 91</th>\n",
       "      <th>Unnamed: 92</th>\n",
       "      <th>Unnamed: 93</th>\n",
       "      <th>Unnamed: 94</th>\n",
       "      <th>Unnamed: 95</th>\n",
       "      <th>Unnamed: 96</th>\n",
       "    </tr>\n",
       "  </thead>\n",
       "  <tbody>\n",
       "    <tr>\n",
       "      <th>0</th>\n",
       "      <td>初婚年龄</td>\n",
       "      <td>合    计</td>\n",
       "      <td>NaN</td>\n",
       "      <td>NaN</td>\n",
       "      <td>1980年</td>\n",
       "      <td>NaN</td>\n",
       "      <td>NaN</td>\n",
       "      <td>1981年</td>\n",
       "      <td>NaN</td>\n",
       "      <td>NaN</td>\n",
       "      <td>...</td>\n",
       "      <td>NaN</td>\n",
       "      <td>2008年</td>\n",
       "      <td>NaN</td>\n",
       "      <td>NaN</td>\n",
       "      <td>2009年</td>\n",
       "      <td>NaN</td>\n",
       "      <td>NaN</td>\n",
       "      <td>2010年</td>\n",
       "      <td>NaN</td>\n",
       "      <td>NaN</td>\n",
       "    </tr>\n",
       "    <tr>\n",
       "      <th>1</th>\n",
       "      <td>NaN</td>\n",
       "      <td>合计</td>\n",
       "      <td>男</td>\n",
       "      <td>女</td>\n",
       "      <td>小计</td>\n",
       "      <td>男</td>\n",
       "      <td>女</td>\n",
       "      <td>小计</td>\n",
       "      <td>男</td>\n",
       "      <td>女</td>\n",
       "      <td>...</td>\n",
       "      <td>女</td>\n",
       "      <td>小计</td>\n",
       "      <td>男</td>\n",
       "      <td>女</td>\n",
       "      <td>小计</td>\n",
       "      <td>男</td>\n",
       "      <td>女</td>\n",
       "      <td>小计</td>\n",
       "      <td>男</td>\n",
       "      <td>女</td>\n",
       "    </tr>\n",
       "    <tr>\n",
       "      <th>2</th>\n",
       "      <td>总  计</td>\n",
       "      <td>57826544</td>\n",
       "      <td>28584834</td>\n",
       "      <td>29241710</td>\n",
       "      <td>2217467</td>\n",
       "      <td>1093308</td>\n",
       "      <td>1124159</td>\n",
       "      <td>1561063</td>\n",
       "      <td>763998</td>\n",
       "      <td>797065</td>\n",
       "      <td>...</td>\n",
       "      <td>837776</td>\n",
       "      <td>1965500</td>\n",
       "      <td>953561</td>\n",
       "      <td>1011939</td>\n",
       "      <td>1823350</td>\n",
       "      <td>882901</td>\n",
       "      <td>940449</td>\n",
       "      <td>911403</td>\n",
       "      <td>445885</td>\n",
       "      <td>465518</td>\n",
       "    </tr>\n",
       "    <tr>\n",
       "      <th>3</th>\n",
       "      <td>15岁以下</td>\n",
       "      <td>60519</td>\n",
       "      <td>18184</td>\n",
       "      <td>42335</td>\n",
       "      <td>5007</td>\n",
       "      <td>1623</td>\n",
       "      <td>3384</td>\n",
       "      <td>2571</td>\n",
       "      <td>802</td>\n",
       "      <td>1769</td>\n",
       "      <td>...</td>\n",
       "      <td>332</td>\n",
       "      <td>414</td>\n",
       "      <td>60</td>\n",
       "      <td>354</td>\n",
       "      <td>321</td>\n",
       "      <td>51</td>\n",
       "      <td>270</td>\n",
       "      <td>110</td>\n",
       "      <td>12</td>\n",
       "      <td>98</td>\n",
       "    </tr>\n",
       "    <tr>\n",
       "      <th>4</th>\n",
       "      <td>15-19岁</td>\n",
       "      <td>7437383</td>\n",
       "      <td>2124730</td>\n",
       "      <td>5312653</td>\n",
       "      <td>263810</td>\n",
       "      <td>65311</td>\n",
       "      <td>198499</td>\n",
       "      <td>220385</td>\n",
       "      <td>56173</td>\n",
       "      <td>164212</td>\n",
       "      <td>...</td>\n",
       "      <td>124866</td>\n",
       "      <td>194601</td>\n",
       "      <td>50530</td>\n",
       "      <td>144071</td>\n",
       "      <td>168561</td>\n",
       "      <td>44522</td>\n",
       "      <td>124039</td>\n",
       "      <td>68582</td>\n",
       "      <td>18159</td>\n",
       "      <td>50423</td>\n",
       "    </tr>\n",
       "  </tbody>\n",
       "</table>\n",
       "<p>5 rows × 97 columns</p>\n",
       "</div>"
      ],
      "text/plain": [
       "  Unnamed: 0      初婚年份 Unnamed: 2 Unnamed: 3 Unnamed: 4 Unnamed: 5 Unnamed: 6  \\\n",
       "0       初婚年龄    合    计        NaN        NaN      1980年        NaN        NaN   \n",
       "1        NaN        合计          男          女         小计          男          女   \n",
       "2       总  计  57826544   28584834   29241710    2217467    1093308    1124159   \n",
       "3      15岁以下     60519      18184      42335       5007       1623       3384   \n",
       "4     15-19岁   7437383    2124730    5312653     263810      65311     198499   \n",
       "\n",
       "  Unnamed: 7 Unnamed: 8 Unnamed: 9     ...     Unnamed: 87 Unnamed: 88  \\\n",
       "0      1981年        NaN        NaN     ...             NaN       2008年   \n",
       "1         小计          男          女     ...               女          小计   \n",
       "2    1561063     763998     797065     ...          837776     1965500   \n",
       "3       2571        802       1769     ...             332         414   \n",
       "4     220385      56173     164212     ...          124866      194601   \n",
       "\n",
       "  Unnamed: 89 Unnamed: 90 Unnamed: 91 Unnamed: 92 Unnamed: 93 Unnamed: 94  \\\n",
       "0         NaN         NaN       2009年         NaN         NaN       2010年   \n",
       "1           男           女          小计           男           女          小计   \n",
       "2      953561     1011939     1823350      882901      940449      911403   \n",
       "3          60         354         321          51         270         110   \n",
       "4       50530      144071      168561       44522      124039       68582   \n",
       "\n",
       "  Unnamed: 95 Unnamed: 96  \n",
       "0         NaN         NaN  \n",
       "1           男           女  \n",
       "2      445885      465518  \n",
       "3          12          98  \n",
       "4       18159       50423  \n",
       "\n",
       "[5 rows x 97 columns]"
      ]
     },
     "execution_count": 7,
     "metadata": {},
     "output_type": "execute_result"
    }
   ],
   "source": [
    "df = pd.read_excel('B0504a_copy.xls', skiprows=3)\n",
    "df.head()"
   ]
  },
  {
   "cell_type": "code",
   "execution_count": null,
   "metadata": {
    "collapsed": true
   },
   "outputs": [],
   "source": []
  },
  {
   "cell_type": "code",
   "execution_count": null,
   "metadata": {
    "collapsed": true
   },
   "outputs": [],
   "source": []
  },
  {
   "cell_type": "code",
   "execution_count": null,
   "metadata": {
    "collapsed": true
   },
   "outputs": [],
   "source": []
  },
  {
   "cell_type": "code",
   "execution_count": null,
   "metadata": {
    "collapsed": true
   },
   "outputs": [],
   "source": []
  },
  {
   "cell_type": "code",
   "execution_count": null,
   "metadata": {
    "collapsed": true
   },
   "outputs": [],
   "source": []
  },
  {
   "cell_type": "code",
   "execution_count": null,
   "metadata": {
    "collapsed": true
   },
   "outputs": [],
   "source": []
  },
  {
   "cell_type": "code",
   "execution_count": null,
   "metadata": {
    "collapsed": true
   },
   "outputs": [],
   "source": []
  },
  {
   "cell_type": "code",
   "execution_count": null,
   "metadata": {
    "collapsed": true
   },
   "outputs": [],
   "source": []
  },
  {
   "cell_type": "code",
   "execution_count": null,
   "metadata": {
    "collapsed": true
   },
   "outputs": [],
   "source": []
  },
  {
   "cell_type": "code",
   "execution_count": null,
   "metadata": {
    "collapsed": true
   },
   "outputs": [],
   "source": []
  },
  {
   "cell_type": "code",
   "execution_count": null,
   "metadata": {
    "collapsed": true
   },
   "outputs": [],
   "source": []
  }
 ],
 "metadata": {
  "kernelspec": {
   "display_name": "Python 3",
   "language": "python",
   "name": "python3"
  },
  "language_info": {
   "codemirror_mode": {
    "name": "ipython",
    "version": 3
   },
   "file_extension": ".py",
   "mimetype": "text/x-python",
   "name": "python",
   "nbconvert_exporter": "python",
   "pygments_lexer": "ipython3",
   "version": "3.6.1"
  }
 },
 "nbformat": 4,
 "nbformat_minor": 2
}
