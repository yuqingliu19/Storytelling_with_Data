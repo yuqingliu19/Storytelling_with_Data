{
 "cells": [
  {
   "cell_type": "code",
   "execution_count": 16,
   "metadata": {
    "collapsed": true
   },
   "outputs": [],
   "source": [
    "import pandas as pd\n",
    "%matplotlib inline"
   ]
  },
  {
   "cell_type": "markdown",
   "metadata": {},
   "source": [
    "Taking data from https://wwwn.cdc.gov/nchs/nhanes/continuousnhanes/default.aspx?BeginYear=2005 to reproduce https://www.nytimes.com/interactive/projects/cp/summer-of-science-2015/latest/how-often-is-bmi-misleading.\n",
    "\n",
    "Files came as `xpt` so had to use [xport](https://pypi.python.org/pypi/xport/) to convert from SAS format to CSV.\n",
    "\n",
    "```\n",
    "pip3 install xport\n",
    "python -m xport dxx_d.xpt > dxx_d.csv\n",
    "python -m xport DEMO_D.XPT > DEMO_D.csv\n",
    "python -m xport BMX_D.XPT > BMX_D.csv\n",
    "```"
   ]
  },
  {
   "cell_type": "markdown",
   "metadata": {},
   "source": [
    "# DXX Body Fat Data\n",
    "\n",
    "https://wwwn.cdc.gov/nchs/nhanes/2005-2006/DXX_D.htm"
   ]
  },
  {
   "cell_type": "code",
   "execution_count": 37,
   "metadata": {},
   "outputs": [
    {
     "data": {
      "text/html": [
       "<div>\n",
       "<style>\n",
       "    .dataframe thead tr:only-child th {\n",
       "        text-align: right;\n",
       "    }\n",
       "\n",
       "    .dataframe thead th {\n",
       "        text-align: left;\n",
       "    }\n",
       "\n",
       "    .dataframe tbody tr th {\n",
       "        vertical-align: top;\n",
       "    }\n",
       "</style>\n",
       "<table border=\"1\" class=\"dataframe\">\n",
       "  <thead>\n",
       "    <tr style=\"text-align: right;\">\n",
       "      <th></th>\n",
       "      <th>SEQN</th>\n",
       "      <th>_MULT_</th>\n",
       "      <th>DXAEXSTS</th>\n",
       "      <th>DXITOTST</th>\n",
       "      <th>DXITOTBN</th>\n",
       "      <th>DXIHE</th>\n",
       "      <th>DXXHEA</th>\n",
       "      <th>DXAHEBV</th>\n",
       "      <th>DXXHEBMC</th>\n",
       "      <th>DXXHEBMD</th>\n",
       "      <th>...</th>\n",
       "      <th>DXDSTTOT</th>\n",
       "      <th>DXDSTPF</th>\n",
       "      <th>DXDTOA</th>\n",
       "      <th>DXDTOBMC</th>\n",
       "      <th>DXDTOBMD</th>\n",
       "      <th>DXDTOFAT</th>\n",
       "      <th>DXDTOLE</th>\n",
       "      <th>DXDTOLI</th>\n",
       "      <th>DXDTOTOT</th>\n",
       "      <th>DXDTOPF</th>\n",
       "    </tr>\n",
       "  </thead>\n",
       "  <tbody>\n",
       "    <tr>\n",
       "      <th>0</th>\n",
       "      <td>31128.0</td>\n",
       "      <td>1.0</td>\n",
       "      <td>1.0</td>\n",
       "      <td>0.0</td>\n",
       "      <td>0.0</td>\n",
       "      <td>0.0</td>\n",
       "      <td>196.86</td>\n",
       "      <td>0.0</td>\n",
       "      <td>294.37</td>\n",
       "      <td>1.495</td>\n",
       "      <td>...</td>\n",
       "      <td>36830.5</td>\n",
       "      <td>22.8</td>\n",
       "      <td>1526.87</td>\n",
       "      <td>1487.02</td>\n",
       "      <td>0.974</td>\n",
       "      <td>9252.1</td>\n",
       "      <td>29624.6</td>\n",
       "      <td>31111.6</td>\n",
       "      <td>40363.7</td>\n",
       "      <td>22.9</td>\n",
       "    </tr>\n",
       "    <tr>\n",
       "      <th>1</th>\n",
       "      <td>31128.0</td>\n",
       "      <td>2.0</td>\n",
       "      <td>1.0</td>\n",
       "      <td>0.0</td>\n",
       "      <td>0.0</td>\n",
       "      <td>0.0</td>\n",
       "      <td>196.86</td>\n",
       "      <td>0.0</td>\n",
       "      <td>294.37</td>\n",
       "      <td>1.495</td>\n",
       "      <td>...</td>\n",
       "      <td>36830.5</td>\n",
       "      <td>22.8</td>\n",
       "      <td>1526.87</td>\n",
       "      <td>1487.02</td>\n",
       "      <td>0.974</td>\n",
       "      <td>9252.1</td>\n",
       "      <td>29624.6</td>\n",
       "      <td>31111.6</td>\n",
       "      <td>40363.7</td>\n",
       "      <td>22.9</td>\n",
       "    </tr>\n",
       "    <tr>\n",
       "      <th>2</th>\n",
       "      <td>31128.0</td>\n",
       "      <td>3.0</td>\n",
       "      <td>1.0</td>\n",
       "      <td>0.0</td>\n",
       "      <td>0.0</td>\n",
       "      <td>0.0</td>\n",
       "      <td>196.86</td>\n",
       "      <td>0.0</td>\n",
       "      <td>294.37</td>\n",
       "      <td>1.495</td>\n",
       "      <td>...</td>\n",
       "      <td>36830.5</td>\n",
       "      <td>22.8</td>\n",
       "      <td>1526.87</td>\n",
       "      <td>1487.02</td>\n",
       "      <td>0.974</td>\n",
       "      <td>9252.1</td>\n",
       "      <td>29624.6</td>\n",
       "      <td>31111.6</td>\n",
       "      <td>40363.7</td>\n",
       "      <td>22.9</td>\n",
       "    </tr>\n",
       "    <tr>\n",
       "      <th>3</th>\n",
       "      <td>31128.0</td>\n",
       "      <td>4.0</td>\n",
       "      <td>1.0</td>\n",
       "      <td>0.0</td>\n",
       "      <td>0.0</td>\n",
       "      <td>0.0</td>\n",
       "      <td>196.86</td>\n",
       "      <td>0.0</td>\n",
       "      <td>294.37</td>\n",
       "      <td>1.495</td>\n",
       "      <td>...</td>\n",
       "      <td>36830.5</td>\n",
       "      <td>22.8</td>\n",
       "      <td>1526.87</td>\n",
       "      <td>1487.02</td>\n",
       "      <td>0.974</td>\n",
       "      <td>9252.1</td>\n",
       "      <td>29624.6</td>\n",
       "      <td>31111.6</td>\n",
       "      <td>40363.7</td>\n",
       "      <td>22.9</td>\n",
       "    </tr>\n",
       "    <tr>\n",
       "      <th>4</th>\n",
       "      <td>31128.0</td>\n",
       "      <td>5.0</td>\n",
       "      <td>1.0</td>\n",
       "      <td>0.0</td>\n",
       "      <td>0.0</td>\n",
       "      <td>0.0</td>\n",
       "      <td>196.86</td>\n",
       "      <td>0.0</td>\n",
       "      <td>294.37</td>\n",
       "      <td>1.495</td>\n",
       "      <td>...</td>\n",
       "      <td>36830.5</td>\n",
       "      <td>22.8</td>\n",
       "      <td>1526.87</td>\n",
       "      <td>1487.02</td>\n",
       "      <td>0.974</td>\n",
       "      <td>9252.1</td>\n",
       "      <td>29624.6</td>\n",
       "      <td>31111.6</td>\n",
       "      <td>40363.7</td>\n",
       "      <td>22.9</td>\n",
       "    </tr>\n",
       "  </tbody>\n",
       "</table>\n",
       "<p>5 rows × 107 columns</p>\n",
       "</div>"
      ],
      "text/plain": [
       "      SEQN  _MULT_  DXAEXSTS  DXITOTST  DXITOTBN  DXIHE  DXXHEA  DXAHEBV  \\\n",
       "0  31128.0     1.0       1.0       0.0       0.0    0.0  196.86      0.0   \n",
       "1  31128.0     2.0       1.0       0.0       0.0    0.0  196.86      0.0   \n",
       "2  31128.0     3.0       1.0       0.0       0.0    0.0  196.86      0.0   \n",
       "3  31128.0     4.0       1.0       0.0       0.0    0.0  196.86      0.0   \n",
       "4  31128.0     5.0       1.0       0.0       0.0    0.0  196.86      0.0   \n",
       "\n",
       "   DXXHEBMC  DXXHEBMD   ...     DXDSTTOT  DXDSTPF   DXDTOA  DXDTOBMC  \\\n",
       "0    294.37     1.495   ...      36830.5     22.8  1526.87   1487.02   \n",
       "1    294.37     1.495   ...      36830.5     22.8  1526.87   1487.02   \n",
       "2    294.37     1.495   ...      36830.5     22.8  1526.87   1487.02   \n",
       "3    294.37     1.495   ...      36830.5     22.8  1526.87   1487.02   \n",
       "4    294.37     1.495   ...      36830.5     22.8  1526.87   1487.02   \n",
       "\n",
       "   DXDTOBMD  DXDTOFAT  DXDTOLE  DXDTOLI  DXDTOTOT  DXDTOPF  \n",
       "0     0.974    9252.1  29624.6  31111.6   40363.7     22.9  \n",
       "1     0.974    9252.1  29624.6  31111.6   40363.7     22.9  \n",
       "2     0.974    9252.1  29624.6  31111.6   40363.7     22.9  \n",
       "3     0.974    9252.1  29624.6  31111.6   40363.7     22.9  \n",
       "4     0.974    9252.1  29624.6  31111.6   40363.7     22.9  \n",
       "\n",
       "[5 rows x 107 columns]"
      ]
     },
     "execution_count": 37,
     "metadata": {},
     "output_type": "execute_result"
    }
   ],
   "source": [
    "df = pd.read_csv(\"dxx_d.csv\")\n",
    "df.head()"
   ]
  },
  {
   "cell_type": "code",
   "execution_count": 38,
   "metadata": {},
   "outputs": [
    {
     "data": {
      "text/plain": [
       "(34465, 107)"
      ]
     },
     "execution_count": 38,
     "metadata": {},
     "output_type": "execute_result"
    }
   ],
   "source": [
    "df.shape"
   ]
  },
  {
   "cell_type": "markdown",
   "metadata": {},
   "source": [
    "### Need to filter out the `_MULT_` that isn't `1` according to [the documentation](https://wwwn.cdc.gov/Nchs/Nhanes/2005-2006/BMX_D.htm) (kind of). It isn't the right thing to do, but aren't being scientists at this very moment."
   ]
  },
  {
   "cell_type": "code",
   "execution_count": 39,
   "metadata": {},
   "outputs": [
    {
     "data": {
      "text/plain": [
       "SEQN\n",
       "31128.0    22.9\n",
       "31129.0    30.0\n",
       "31131.0    41.9\n",
       "31133.0    16.0\n",
       "31137.0    41.3\n",
       "Name: DXDTOPF, dtype: float64"
      ]
     },
     "execution_count": 39,
     "metadata": {},
     "output_type": "execute_result"
    }
   ],
   "source": [
    "fat_pct = df[df._MULT_ == 1].set_index('SEQN')['DXDTOPF']\n",
    "fat_pct.head()"
   ]
  },
  {
   "cell_type": "markdown",
   "metadata": {},
   "source": [
    "# Demographic Data\n",
    "\n",
    "https://wwwn.cdc.gov/Nchs/Nhanes/2005-2006/DEMO_D.htm"
   ]
  },
  {
   "cell_type": "code",
   "execution_count": 40,
   "metadata": {},
   "outputs": [
    {
     "data": {
      "text/html": [
       "<div>\n",
       "<style>\n",
       "    .dataframe thead tr:only-child th {\n",
       "        text-align: right;\n",
       "    }\n",
       "\n",
       "    .dataframe thead th {\n",
       "        text-align: left;\n",
       "    }\n",
       "\n",
       "    .dataframe tbody tr th {\n",
       "        vertical-align: top;\n",
       "    }\n",
       "</style>\n",
       "<table border=\"1\" class=\"dataframe\">\n",
       "  <thead>\n",
       "    <tr style=\"text-align: right;\">\n",
       "      <th></th>\n",
       "      <th>SEQN</th>\n",
       "      <th>SDDSRVYR</th>\n",
       "      <th>RIDSTATR</th>\n",
       "      <th>RIDEXMON</th>\n",
       "      <th>RIAGENDR</th>\n",
       "      <th>RIDAGEYR</th>\n",
       "      <th>RIDAGEMN</th>\n",
       "      <th>RIDAGEEX</th>\n",
       "      <th>RIDRETH1</th>\n",
       "      <th>DMQMILIT</th>\n",
       "      <th>...</th>\n",
       "      <th>FIAPROXY</th>\n",
       "      <th>FIAINTRP</th>\n",
       "      <th>MIALANG</th>\n",
       "      <th>MIAPROXY</th>\n",
       "      <th>MIAINTRP</th>\n",
       "      <th>AIALANG</th>\n",
       "      <th>WTINT2YR</th>\n",
       "      <th>WTMEC2YR</th>\n",
       "      <th>SDMVPSU</th>\n",
       "      <th>SDMVSTRA</th>\n",
       "    </tr>\n",
       "  </thead>\n",
       "  <tbody>\n",
       "    <tr>\n",
       "      <th>0</th>\n",
       "      <td>31127.0</td>\n",
       "      <td>4.0</td>\n",
       "      <td>2.0</td>\n",
       "      <td>2.0</td>\n",
       "      <td>1.0</td>\n",
       "      <td>0.0</td>\n",
       "      <td>11.0</td>\n",
       "      <td>12.0</td>\n",
       "      <td>3.0</td>\n",
       "      <td>NaN</td>\n",
       "      <td>...</td>\n",
       "      <td>2.0</td>\n",
       "      <td>2.0</td>\n",
       "      <td>NaN</td>\n",
       "      <td>NaN</td>\n",
       "      <td>NaN</td>\n",
       "      <td>NaN</td>\n",
       "      <td>6434.950248</td>\n",
       "      <td>6571.396373</td>\n",
       "      <td>2.0</td>\n",
       "      <td>44.0</td>\n",
       "    </tr>\n",
       "    <tr>\n",
       "      <th>1</th>\n",
       "      <td>31128.0</td>\n",
       "      <td>4.0</td>\n",
       "      <td>2.0</td>\n",
       "      <td>1.0</td>\n",
       "      <td>2.0</td>\n",
       "      <td>11.0</td>\n",
       "      <td>132.0</td>\n",
       "      <td>132.0</td>\n",
       "      <td>4.0</td>\n",
       "      <td>NaN</td>\n",
       "      <td>...</td>\n",
       "      <td>2.0</td>\n",
       "      <td>2.0</td>\n",
       "      <td>1.0</td>\n",
       "      <td>2.0</td>\n",
       "      <td>2.0</td>\n",
       "      <td>1.0</td>\n",
       "      <td>9081.700761</td>\n",
       "      <td>8987.041810</td>\n",
       "      <td>1.0</td>\n",
       "      <td>52.0</td>\n",
       "    </tr>\n",
       "    <tr>\n",
       "      <th>2</th>\n",
       "      <td>31129.0</td>\n",
       "      <td>4.0</td>\n",
       "      <td>2.0</td>\n",
       "      <td>2.0</td>\n",
       "      <td>1.0</td>\n",
       "      <td>15.0</td>\n",
       "      <td>189.0</td>\n",
       "      <td>190.0</td>\n",
       "      <td>4.0</td>\n",
       "      <td>NaN</td>\n",
       "      <td>...</td>\n",
       "      <td>2.0</td>\n",
       "      <td>2.0</td>\n",
       "      <td>1.0</td>\n",
       "      <td>2.0</td>\n",
       "      <td>2.0</td>\n",
       "      <td>1.0</td>\n",
       "      <td>5316.895215</td>\n",
       "      <td>5586.719481</td>\n",
       "      <td>1.0</td>\n",
       "      <td>51.0</td>\n",
       "    </tr>\n",
       "    <tr>\n",
       "      <th>3</th>\n",
       "      <td>31130.0</td>\n",
       "      <td>4.0</td>\n",
       "      <td>2.0</td>\n",
       "      <td>2.0</td>\n",
       "      <td>2.0</td>\n",
       "      <td>85.0</td>\n",
       "      <td>NaN</td>\n",
       "      <td>NaN</td>\n",
       "      <td>3.0</td>\n",
       "      <td>2.0</td>\n",
       "      <td>...</td>\n",
       "      <td>2.0</td>\n",
       "      <td>2.0</td>\n",
       "      <td>NaN</td>\n",
       "      <td>NaN</td>\n",
       "      <td>NaN</td>\n",
       "      <td>NaN</td>\n",
       "      <td>29960.839509</td>\n",
       "      <td>34030.994786</td>\n",
       "      <td>2.0</td>\n",
       "      <td>46.0</td>\n",
       "    </tr>\n",
       "    <tr>\n",
       "      <th>4</th>\n",
       "      <td>31131.0</td>\n",
       "      <td>4.0</td>\n",
       "      <td>2.0</td>\n",
       "      <td>2.0</td>\n",
       "      <td>2.0</td>\n",
       "      <td>44.0</td>\n",
       "      <td>535.0</td>\n",
       "      <td>536.0</td>\n",
       "      <td>4.0</td>\n",
       "      <td>2.0</td>\n",
       "      <td>...</td>\n",
       "      <td>2.0</td>\n",
       "      <td>2.0</td>\n",
       "      <td>1.0</td>\n",
       "      <td>2.0</td>\n",
       "      <td>2.0</td>\n",
       "      <td>1.0</td>\n",
       "      <td>26457.708180</td>\n",
       "      <td>26770.584605</td>\n",
       "      <td>1.0</td>\n",
       "      <td>48.0</td>\n",
       "    </tr>\n",
       "  </tbody>\n",
       "</table>\n",
       "<p>5 rows × 43 columns</p>\n",
       "</div>"
      ],
      "text/plain": [
       "      SEQN  SDDSRVYR  RIDSTATR  RIDEXMON  RIAGENDR  RIDAGEYR  RIDAGEMN  \\\n",
       "0  31127.0       4.0       2.0       2.0       1.0       0.0      11.0   \n",
       "1  31128.0       4.0       2.0       1.0       2.0      11.0     132.0   \n",
       "2  31129.0       4.0       2.0       2.0       1.0      15.0     189.0   \n",
       "3  31130.0       4.0       2.0       2.0       2.0      85.0       NaN   \n",
       "4  31131.0       4.0       2.0       2.0       2.0      44.0     535.0   \n",
       "\n",
       "   RIDAGEEX  RIDRETH1  DMQMILIT    ...     FIAPROXY  FIAINTRP  MIALANG  \\\n",
       "0      12.0       3.0       NaN    ...          2.0       2.0      NaN   \n",
       "1     132.0       4.0       NaN    ...          2.0       2.0      1.0   \n",
       "2     190.0       4.0       NaN    ...          2.0       2.0      1.0   \n",
       "3       NaN       3.0       2.0    ...          2.0       2.0      NaN   \n",
       "4     536.0       4.0       2.0    ...          2.0       2.0      1.0   \n",
       "\n",
       "   MIAPROXY  MIAINTRP  AIALANG      WTINT2YR      WTMEC2YR  SDMVPSU  SDMVSTRA  \n",
       "0       NaN       NaN      NaN   6434.950248   6571.396373      2.0      44.0  \n",
       "1       2.0       2.0      1.0   9081.700761   8987.041810      1.0      52.0  \n",
       "2       2.0       2.0      1.0   5316.895215   5586.719481      1.0      51.0  \n",
       "3       NaN       NaN      NaN  29960.839509  34030.994786      2.0      46.0  \n",
       "4       2.0       2.0      1.0  26457.708180  26770.584605      1.0      48.0  \n",
       "\n",
       "[5 rows x 43 columns]"
      ]
     },
     "execution_count": 40,
     "metadata": {},
     "output_type": "execute_result"
    }
   ],
   "source": [
    "df = pd.read_csv(\"DEMO_D.csv\")\n",
    "df.head()"
   ]
  },
  {
   "cell_type": "markdown",
   "metadata": {},
   "source": [
    "### Let's just grab the gender."
   ]
  },
  {
   "cell_type": "code",
   "execution_count": 42,
   "metadata": {},
   "outputs": [
    {
     "data": {
      "text/plain": [
       "SEQN\n",
       "31127.0    1.0\n",
       "31128.0    2.0\n",
       "31129.0    1.0\n",
       "31130.0    2.0\n",
       "31131.0    2.0\n",
       "Name: RIAGENDR, dtype: float64"
      ]
     },
     "execution_count": 42,
     "metadata": {},
     "output_type": "execute_result"
    }
   ],
   "source": [
    "gender = df.set_index('SEQN')['RIAGENDR']\n",
    "gender.head()"
   ]
  },
  {
   "cell_type": "markdown",
   "metadata": {},
   "source": [
    "# Examination Data\n",
    "\n",
    "https://wwwn.cdc.gov/Nchs/Nhanes/2005-2006/BMX_D.htm"
   ]
  },
  {
   "cell_type": "code",
   "execution_count": 62,
   "metadata": {},
   "outputs": [
    {
     "data": {
      "text/html": [
       "<div>\n",
       "<style>\n",
       "    .dataframe thead tr:only-child th {\n",
       "        text-align: right;\n",
       "    }\n",
       "\n",
       "    .dataframe thead th {\n",
       "        text-align: left;\n",
       "    }\n",
       "\n",
       "    .dataframe tbody tr th {\n",
       "        vertical-align: top;\n",
       "    }\n",
       "</style>\n",
       "<table border=\"1\" class=\"dataframe\">\n",
       "  <thead>\n",
       "    <tr style=\"text-align: right;\">\n",
       "      <th></th>\n",
       "      <th>SEQN</th>\n",
       "      <th>BMDSTATS</th>\n",
       "      <th>BMXWT</th>\n",
       "      <th>BMIWT</th>\n",
       "      <th>BMXRECUM</th>\n",
       "      <th>BMIRECUM</th>\n",
       "      <th>BMXHEAD</th>\n",
       "      <th>BMIHEAD</th>\n",
       "      <th>BMXHT</th>\n",
       "      <th>BMIHT</th>\n",
       "      <th>...</th>\n",
       "      <th>BMXARMC</th>\n",
       "      <th>BMIARMC</th>\n",
       "      <th>BMXWAIST</th>\n",
       "      <th>BMIWAIST</th>\n",
       "      <th>BMXTHICR</th>\n",
       "      <th>BMITHICR</th>\n",
       "      <th>BMXTRI</th>\n",
       "      <th>BMITRI</th>\n",
       "      <th>BMXSUB</th>\n",
       "      <th>BMISUB</th>\n",
       "    </tr>\n",
       "  </thead>\n",
       "  <tbody>\n",
       "    <tr>\n",
       "      <th>0</th>\n",
       "      <td>31127.0</td>\n",
       "      <td>1.0</td>\n",
       "      <td>10.2</td>\n",
       "      <td>NaN</td>\n",
       "      <td>73.6</td>\n",
       "      <td>NaN</td>\n",
       "      <td>NaN</td>\n",
       "      <td>NaN</td>\n",
       "      <td>NaN</td>\n",
       "      <td>NaN</td>\n",
       "      <td>...</td>\n",
       "      <td>15.5</td>\n",
       "      <td>NaN</td>\n",
       "      <td>NaN</td>\n",
       "      <td>NaN</td>\n",
       "      <td>NaN</td>\n",
       "      <td>NaN</td>\n",
       "      <td>12.8</td>\n",
       "      <td>NaN</td>\n",
       "      <td>10.0</td>\n",
       "      <td>NaN</td>\n",
       "    </tr>\n",
       "    <tr>\n",
       "      <th>1</th>\n",
       "      <td>31128.0</td>\n",
       "      <td>1.0</td>\n",
       "      <td>40.1</td>\n",
       "      <td>NaN</td>\n",
       "      <td>NaN</td>\n",
       "      <td>NaN</td>\n",
       "      <td>NaN</td>\n",
       "      <td>NaN</td>\n",
       "      <td>151.6</td>\n",
       "      <td>NaN</td>\n",
       "      <td>...</td>\n",
       "      <td>21.7</td>\n",
       "      <td>NaN</td>\n",
       "      <td>62.8</td>\n",
       "      <td>NaN</td>\n",
       "      <td>39.5</td>\n",
       "      <td>NaN</td>\n",
       "      <td>10.4</td>\n",
       "      <td>NaN</td>\n",
       "      <td>8.4</td>\n",
       "      <td>NaN</td>\n",
       "    </tr>\n",
       "    <tr>\n",
       "      <th>2</th>\n",
       "      <td>31129.0</td>\n",
       "      <td>1.0</td>\n",
       "      <td>74.6</td>\n",
       "      <td>NaN</td>\n",
       "      <td>NaN</td>\n",
       "      <td>NaN</td>\n",
       "      <td>NaN</td>\n",
       "      <td>NaN</td>\n",
       "      <td>167.7</td>\n",
       "      <td>NaN</td>\n",
       "      <td>...</td>\n",
       "      <td>32.6</td>\n",
       "      <td>NaN</td>\n",
       "      <td>97.8</td>\n",
       "      <td>NaN</td>\n",
       "      <td>55.9</td>\n",
       "      <td>NaN</td>\n",
       "      <td>18.8</td>\n",
       "      <td>NaN</td>\n",
       "      <td>17.6</td>\n",
       "      <td>NaN</td>\n",
       "    </tr>\n",
       "    <tr>\n",
       "      <th>3</th>\n",
       "      <td>31130.0</td>\n",
       "      <td>4.0</td>\n",
       "      <td>NaN</td>\n",
       "      <td>NaN</td>\n",
       "      <td>NaN</td>\n",
       "      <td>NaN</td>\n",
       "      <td>NaN</td>\n",
       "      <td>NaN</td>\n",
       "      <td>NaN</td>\n",
       "      <td>NaN</td>\n",
       "      <td>...</td>\n",
       "      <td>NaN</td>\n",
       "      <td>NaN</td>\n",
       "      <td>NaN</td>\n",
       "      <td>NaN</td>\n",
       "      <td>NaN</td>\n",
       "      <td>NaN</td>\n",
       "      <td>NaN</td>\n",
       "      <td>NaN</td>\n",
       "      <td>NaN</td>\n",
       "      <td>NaN</td>\n",
       "    </tr>\n",
       "    <tr>\n",
       "      <th>4</th>\n",
       "      <td>31131.0</td>\n",
       "      <td>3.0</td>\n",
       "      <td>75.2</td>\n",
       "      <td>NaN</td>\n",
       "      <td>NaN</td>\n",
       "      <td>NaN</td>\n",
       "      <td>NaN</td>\n",
       "      <td>NaN</td>\n",
       "      <td>156.0</td>\n",
       "      <td>NaN</td>\n",
       "      <td>...</td>\n",
       "      <td>35.8</td>\n",
       "      <td>NaN</td>\n",
       "      <td>96.0</td>\n",
       "      <td>NaN</td>\n",
       "      <td>53.7</td>\n",
       "      <td>NaN</td>\n",
       "      <td>NaN</td>\n",
       "      <td>2.0</td>\n",
       "      <td>NaN</td>\n",
       "      <td>1.0</td>\n",
       "    </tr>\n",
       "  </tbody>\n",
       "</table>\n",
       "<p>5 rows × 27 columns</p>\n",
       "</div>"
      ],
      "text/plain": [
       "      SEQN  BMDSTATS  BMXWT  BMIWT  BMXRECUM  BMIRECUM  BMXHEAD  BMIHEAD  \\\n",
       "0  31127.0       1.0   10.2    NaN      73.6       NaN      NaN      NaN   \n",
       "1  31128.0       1.0   40.1    NaN       NaN       NaN      NaN      NaN   \n",
       "2  31129.0       1.0   74.6    NaN       NaN       NaN      NaN      NaN   \n",
       "3  31130.0       4.0    NaN    NaN       NaN       NaN      NaN      NaN   \n",
       "4  31131.0       3.0   75.2    NaN       NaN       NaN      NaN      NaN   \n",
       "\n",
       "   BMXHT  BMIHT   ...    BMXARMC  BMIARMC  BMXWAIST  BMIWAIST  BMXTHICR  \\\n",
       "0    NaN    NaN   ...       15.5      NaN       NaN       NaN       NaN   \n",
       "1  151.6    NaN   ...       21.7      NaN      62.8       NaN      39.5   \n",
       "2  167.7    NaN   ...       32.6      NaN      97.8       NaN      55.9   \n",
       "3    NaN    NaN   ...        NaN      NaN       NaN       NaN       NaN   \n",
       "4  156.0    NaN   ...       35.8      NaN      96.0       NaN      53.7   \n",
       "\n",
       "   BMITHICR  BMXTRI  BMITRI  BMXSUB  BMISUB  \n",
       "0       NaN    12.8     NaN    10.0     NaN  \n",
       "1       NaN    10.4     NaN     8.4     NaN  \n",
       "2       NaN    18.8     NaN    17.6     NaN  \n",
       "3       NaN     NaN     NaN     NaN     NaN  \n",
       "4       NaN     NaN     2.0     NaN     1.0  \n",
       "\n",
       "[5 rows x 27 columns]"
      ]
     },
     "execution_count": 62,
     "metadata": {},
     "output_type": "execute_result"
    }
   ],
   "source": [
    "df = pd.read_csv(\"BMX_D.csv\")\n",
    "df.head()"
   ]
  },
  {
   "cell_type": "code",
   "execution_count": 64,
   "metadata": {},
   "outputs": [
    {
     "data": {
      "text/plain": [
       "SEQN\n",
       "31127.0      NaN\n",
       "31128.0    17.45\n",
       "31129.0    26.53\n",
       "31130.0      NaN\n",
       "31131.0    30.90\n",
       "Name: BMXBMI, dtype: float64"
      ]
     },
     "execution_count": 64,
     "metadata": {},
     "output_type": "execute_result"
    }
   ],
   "source": [
    "bmi = df.set_index('SEQN')['BMXBMI']\n",
    "bmi.head()"
   ]
  },
  {
   "cell_type": "markdown",
   "metadata": {},
   "source": [
    "# Combine"
   ]
  },
  {
   "cell_type": "code",
   "execution_count": 84,
   "metadata": {},
   "outputs": [
    {
     "data": {
      "text/html": [
       "<div>\n",
       "<style>\n",
       "    .dataframe thead tr:only-child th {\n",
       "        text-align: right;\n",
       "    }\n",
       "\n",
       "    .dataframe thead th {\n",
       "        text-align: left;\n",
       "    }\n",
       "\n",
       "    .dataframe tbody tr th {\n",
       "        vertical-align: top;\n",
       "    }\n",
       "</style>\n",
       "<table border=\"1\" class=\"dataframe\">\n",
       "  <thead>\n",
       "    <tr style=\"text-align: right;\">\n",
       "      <th></th>\n",
       "      <th>bmi</th>\n",
       "      <th>fat_pct</th>\n",
       "      <th>gender</th>\n",
       "    </tr>\n",
       "    <tr>\n",
       "      <th>SEQN</th>\n",
       "      <th></th>\n",
       "      <th></th>\n",
       "      <th></th>\n",
       "    </tr>\n",
       "  </thead>\n",
       "  <tbody>\n",
       "    <tr>\n",
       "      <th>31127.0</th>\n",
       "      <td>NaN</td>\n",
       "      <td>NaN</td>\n",
       "      <td>Male</td>\n",
       "    </tr>\n",
       "    <tr>\n",
       "      <th>31128.0</th>\n",
       "      <td>17.45</td>\n",
       "      <td>22.9</td>\n",
       "      <td>Female</td>\n",
       "    </tr>\n",
       "    <tr>\n",
       "      <th>31129.0</th>\n",
       "      <td>26.53</td>\n",
       "      <td>30.0</td>\n",
       "      <td>Male</td>\n",
       "    </tr>\n",
       "    <tr>\n",
       "      <th>31130.0</th>\n",
       "      <td>NaN</td>\n",
       "      <td>NaN</td>\n",
       "      <td>Female</td>\n",
       "    </tr>\n",
       "    <tr>\n",
       "      <th>31131.0</th>\n",
       "      <td>30.90</td>\n",
       "      <td>41.9</td>\n",
       "      <td>Female</td>\n",
       "    </tr>\n",
       "  </tbody>\n",
       "</table>\n",
       "</div>"
      ],
      "text/plain": [
       "           bmi  fat_pct  gender\n",
       "SEQN                           \n",
       "31127.0    NaN      NaN    Male\n",
       "31128.0  17.45     22.9  Female\n",
       "31129.0  26.53     30.0    Male\n",
       "31130.0    NaN      NaN  Female\n",
       "31131.0  30.90     41.9  Female"
      ]
     },
     "execution_count": 84,
     "metadata": {},
     "output_type": "execute_result"
    }
   ],
   "source": [
    "df = pd.DataFrame({'gender': gender, 'fat_pct': fat_pct, 'bmi': bmi})\n",
    "df.gender.replace({1.0: 'Male', 2.0: 'Female'}, inplace=True)\n",
    "df.head()"
   ]
  },
  {
   "cell_type": "code",
   "execution_count": 85,
   "metadata": {},
   "outputs": [
    {
     "data": {
      "text/html": [
       "<div>\n",
       "<style>\n",
       "    .dataframe thead tr:only-child th {\n",
       "        text-align: right;\n",
       "    }\n",
       "\n",
       "    .dataframe thead th {\n",
       "        text-align: left;\n",
       "    }\n",
       "\n",
       "    .dataframe tbody tr th {\n",
       "        vertical-align: top;\n",
       "    }\n",
       "</style>\n",
       "<table border=\"1\" class=\"dataframe\">\n",
       "  <thead>\n",
       "    <tr style=\"text-align: right;\">\n",
       "      <th></th>\n",
       "      <th>bmi</th>\n",
       "      <th>fat_pct</th>\n",
       "      <th>gender</th>\n",
       "    </tr>\n",
       "    <tr>\n",
       "      <th>SEQN</th>\n",
       "      <th></th>\n",
       "      <th></th>\n",
       "      <th></th>\n",
       "    </tr>\n",
       "  </thead>\n",
       "  <tbody>\n",
       "    <tr>\n",
       "      <th>31128.0</th>\n",
       "      <td>17.45</td>\n",
       "      <td>22.9</td>\n",
       "      <td>Female</td>\n",
       "    </tr>\n",
       "    <tr>\n",
       "      <th>31129.0</th>\n",
       "      <td>26.53</td>\n",
       "      <td>30.0</td>\n",
       "      <td>Male</td>\n",
       "    </tr>\n",
       "    <tr>\n",
       "      <th>31131.0</th>\n",
       "      <td>30.90</td>\n",
       "      <td>41.9</td>\n",
       "      <td>Female</td>\n",
       "    </tr>\n",
       "    <tr>\n",
       "      <th>31133.0</th>\n",
       "      <td>16.79</td>\n",
       "      <td>16.0</td>\n",
       "      <td>Female</td>\n",
       "    </tr>\n",
       "    <tr>\n",
       "      <th>31137.0</th>\n",
       "      <td>27.78</td>\n",
       "      <td>41.3</td>\n",
       "      <td>Female</td>\n",
       "    </tr>\n",
       "  </tbody>\n",
       "</table>\n",
       "</div>"
      ],
      "text/plain": [
       "           bmi  fat_pct  gender\n",
       "SEQN                           \n",
       "31128.0  17.45     22.9  Female\n",
       "31129.0  26.53     30.0    Male\n",
       "31131.0  30.90     41.9  Female\n",
       "31133.0  16.79     16.0  Female\n",
       "31137.0  27.78     41.3  Female"
      ]
     },
     "execution_count": 85,
     "metadata": {},
     "output_type": "execute_result"
    }
   ],
   "source": [
    "cleaned = df.dropna()\n",
    "cleaned.head()"
   ]
  },
  {
   "cell_type": "code",
   "execution_count": 87,
   "metadata": {},
   "outputs": [
    {
     "data": {
      "text/plain": [
       "<matplotlib.axes._subplots.AxesSubplot at 0x115b1fdd8>"
      ]
     },
     "execution_count": 87,
     "metadata": {},
     "output_type": "execute_result"
    },
    {
     "data": {
      "image/png": "[encoded data removed]",
      "text/plain": [
       "<matplotlib.figure.Figure at 0x112007080>"
      ]
     },
     "metadata": {},
     "output_type": "display_data"
    }
   ],
   "source": [
    "cleaned[cleaned.gender == 'Male'].plot(x='fat_pct', y='bmi', kind='scatter', xlim=(0, 60), ylim=(10, 75))"
   ]
  },
  {
   "cell_type": "code",
   "execution_count": 88,
   "metadata": {},
   "outputs": [
    {
     "data": {
      "text/plain": [
       "<matplotlib.axes._subplots.AxesSubplot at 0x115d07f28>"
      ]
     },
     "execution_count": 88,
     "metadata": {},
     "output_type": "execute_result"
    },
    {
     "data": {
      "image/png": "[encoded data removed]",
      "text/plain": [
       "<matplotlib.figure.Figure at 0x115af67b8>"
      ]
     },
     "metadata": {},
     "output_type": "display_data"
    }
   ],
   "source": [
    "cleaned[cleaned.gender == 'Female'].plot(x='fat_pct', y='bmi', kind='scatter', xlim=(0, 60), ylim=(10, 75))"
   ]
  },
  {
   "cell_type": "code",
   "execution_count": 89,
   "metadata": {},
   "outputs": [
    {
     "data": {
      "text/plain": [
       "Male      3272\n",
       "Female    3180\n",
       "Name: gender, dtype: int64"
      ]
     },
     "execution_count": 89,
     "metadata": {},
     "output_type": "execute_result"
    }
   ],
   "source": [
    "cleaned.gender.value_counts()"
   ]
  },
  {
   "cell_type": "code",
   "execution_count": 91,
   "metadata": {
    "collapsed": true
   },
   "outputs": [],
   "source": [
    "cleaned.sample(2000).to_csv(\"bmi_fat.csv\", index=False)"
   ]
  },
  {
   "cell_type": "code",
   "execution_count": null,
   "metadata": {
    "collapsed": true
   },
   "outputs": [],
   "source": []
  }
 ],
 "metadata": {
  "kernelspec": {
   "display_name": "Python 3",
   "language": "python",
   "name": "python3"
  },
  "language_info": {
   "codemirror_mode": {
    "name": "ipython",
    "version": 3
   },
   "file_extension": ".py",
   "mimetype": "text/x-python",
   "name": "python",
   "nbconvert_exporter": "python",
   "pygments_lexer": "ipython3",
   "version": "3.6.1"
  }
 },
 "nbformat": 4,
 "nbformat_minor": 2
}
